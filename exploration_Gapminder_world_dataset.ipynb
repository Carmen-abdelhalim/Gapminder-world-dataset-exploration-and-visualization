{
 "cells": [
  {
   "cell_type": "markdown",
   "metadata": {},
   "source": [
    "# Gapminder World Dataset Expolration\n",
    "## by (Eman Abdelhalim)\n",
    "### Table of Contents\n",
    "<ul>\n",
    "<li><a href=\"#intro\">Introduction</a></li>\n",
    "<li><a href=\"#wrangling\">Data cleaning</a></li>\n",
    "<li><a href=\"#eda\">Exploring Data </a></li>\n",
    "<li><a href=\"#conclusions\">Conclusions</a></li>\n",
    "</ul>"
   ]
  },
  {
   "cell_type": "markdown",
   "metadata": {},
   "source": [
    "<a id='intro'></a>\n",
    "## Introduction\n",
    "\n",
    "> Gapminder has collected a lot of information about how people live their lives in different countries, tracked across the years, and on a number of different indicators like GDP per capita, life expectancy and Population and total health spending precent of GDP  \n",
    "\n",
    "\n",
    "\n"
   ]
  },
  {
   "cell_type": "code",
   "execution_count": 1,
   "metadata": {},
   "outputs": [],
   "source": [
    "#import required libraries\n",
    "import pandas as pd\n",
    "import numpy as np\n",
    "import matplotlib.pyplot as plt\n",
    "import seaborn as sns \n",
    "%matplotlib inline\n",
    "\n",
    " "
   ]
  },
  {
   "cell_type": "code",
   "execution_count": 2,
   "metadata": {},
   "outputs": [],
   "source": [
    "#read data files into dataframes\n",
    "gdp_cap = pd.read_csv('income_per_person_gdppercapita_ppp_inflation_adjusted.csv')\n",
    "population = pd.read_csv('population_total.csv')\n",
    "life_exp = pd.read_csv('life_expectancy_years.csv')\n",
    "health_spending = pd.read_csv('total_health_spending_percent_of_gdp.csv')"
   ]
  },
  {
   "cell_type": "code",
   "execution_count": 3,
   "metadata": {
    "scrolled": true
   },
   "outputs": [
    {
     "data": {
      "text/html": [
       "<div>\n",
       "<style scoped>\n",
       "    .dataframe tbody tr th:only-of-type {\n",
       "        vertical-align: middle;\n",
       "    }\n",
       "\n",
       "    .dataframe tbody tr th {\n",
       "        vertical-align: top;\n",
       "    }\n",
       "\n",
       "    .dataframe thead th {\n",
       "        text-align: right;\n",
       "    }\n",
       "</style>\n",
       "<table border=\"1\" class=\"dataframe\">\n",
       "  <thead>\n",
       "    <tr style=\"text-align: right;\">\n",
       "      <th></th>\n",
       "      <th>country</th>\n",
       "      <th>1800</th>\n",
       "      <th>1801</th>\n",
       "      <th>1802</th>\n",
       "      <th>1803</th>\n",
       "      <th>1804</th>\n",
       "      <th>1805</th>\n",
       "      <th>1806</th>\n",
       "      <th>1807</th>\n",
       "      <th>1808</th>\n",
       "      <th>...</th>\n",
       "      <th>2031</th>\n",
       "      <th>2032</th>\n",
       "      <th>2033</th>\n",
       "      <th>2034</th>\n",
       "      <th>2035</th>\n",
       "      <th>2036</th>\n",
       "      <th>2037</th>\n",
       "      <th>2038</th>\n",
       "      <th>2039</th>\n",
       "      <th>2040</th>\n",
       "    </tr>\n",
       "  </thead>\n",
       "  <tbody>\n",
       "    <tr>\n",
       "      <th>0</th>\n",
       "      <td>Afghanistan</td>\n",
       "      <td>603</td>\n",
       "      <td>603</td>\n",
       "      <td>603</td>\n",
       "      <td>603</td>\n",
       "      <td>603</td>\n",
       "      <td>603</td>\n",
       "      <td>603</td>\n",
       "      <td>603</td>\n",
       "      <td>603</td>\n",
       "      <td>...</td>\n",
       "      <td>2550</td>\n",
       "      <td>2600</td>\n",
       "      <td>2660</td>\n",
       "      <td>2710</td>\n",
       "      <td>2770</td>\n",
       "      <td>2820</td>\n",
       "      <td>2880</td>\n",
       "      <td>2940</td>\n",
       "      <td>3000</td>\n",
       "      <td>3060</td>\n",
       "    </tr>\n",
       "    <tr>\n",
       "      <th>1</th>\n",
       "      <td>Albania</td>\n",
       "      <td>667</td>\n",
       "      <td>667</td>\n",
       "      <td>667</td>\n",
       "      <td>667</td>\n",
       "      <td>667</td>\n",
       "      <td>668</td>\n",
       "      <td>668</td>\n",
       "      <td>668</td>\n",
       "      <td>668</td>\n",
       "      <td>...</td>\n",
       "      <td>19400</td>\n",
       "      <td>19800</td>\n",
       "      <td>20200</td>\n",
       "      <td>20600</td>\n",
       "      <td>21000</td>\n",
       "      <td>21500</td>\n",
       "      <td>21900</td>\n",
       "      <td>22300</td>\n",
       "      <td>22800</td>\n",
       "      <td>23300</td>\n",
       "    </tr>\n",
       "    <tr>\n",
       "      <th>2</th>\n",
       "      <td>Algeria</td>\n",
       "      <td>715</td>\n",
       "      <td>716</td>\n",
       "      <td>717</td>\n",
       "      <td>718</td>\n",
       "      <td>719</td>\n",
       "      <td>720</td>\n",
       "      <td>721</td>\n",
       "      <td>722</td>\n",
       "      <td>723</td>\n",
       "      <td>...</td>\n",
       "      <td>14300</td>\n",
       "      <td>14600</td>\n",
       "      <td>14900</td>\n",
       "      <td>15200</td>\n",
       "      <td>15500</td>\n",
       "      <td>15800</td>\n",
       "      <td>16100</td>\n",
       "      <td>16500</td>\n",
       "      <td>16800</td>\n",
       "      <td>17100</td>\n",
       "    </tr>\n",
       "    <tr>\n",
       "      <th>3</th>\n",
       "      <td>Andorra</td>\n",
       "      <td>1200</td>\n",
       "      <td>1200</td>\n",
       "      <td>1200</td>\n",
       "      <td>1200</td>\n",
       "      <td>1210</td>\n",
       "      <td>1210</td>\n",
       "      <td>1210</td>\n",
       "      <td>1210</td>\n",
       "      <td>1220</td>\n",
       "      <td>...</td>\n",
       "      <td>73600</td>\n",
       "      <td>75100</td>\n",
       "      <td>76700</td>\n",
       "      <td>78300</td>\n",
       "      <td>79800</td>\n",
       "      <td>81500</td>\n",
       "      <td>83100</td>\n",
       "      <td>84800</td>\n",
       "      <td>86500</td>\n",
       "      <td>88300</td>\n",
       "    </tr>\n",
       "    <tr>\n",
       "      <th>4</th>\n",
       "      <td>Angola</td>\n",
       "      <td>618</td>\n",
       "      <td>620</td>\n",
       "      <td>623</td>\n",
       "      <td>626</td>\n",
       "      <td>628</td>\n",
       "      <td>631</td>\n",
       "      <td>634</td>\n",
       "      <td>637</td>\n",
       "      <td>640</td>\n",
       "      <td>...</td>\n",
       "      <td>6110</td>\n",
       "      <td>6230</td>\n",
       "      <td>6350</td>\n",
       "      <td>6480</td>\n",
       "      <td>6610</td>\n",
       "      <td>6740</td>\n",
       "      <td>6880</td>\n",
       "      <td>7020</td>\n",
       "      <td>7160</td>\n",
       "      <td>7310</td>\n",
       "    </tr>\n",
       "  </tbody>\n",
       "</table>\n",
       "<p>5 rows × 242 columns</p>\n",
       "</div>"
      ],
      "text/plain": [
       "       country  1800  1801  1802  1803  1804  1805  1806  1807  1808  ...  \\\n",
       "0  Afghanistan   603   603   603   603   603   603   603   603   603  ...   \n",
       "1      Albania   667   667   667   667   667   668   668   668   668  ...   \n",
       "2      Algeria   715   716   717   718   719   720   721   722   723  ...   \n",
       "3      Andorra  1200  1200  1200  1200  1210  1210  1210  1210  1220  ...   \n",
       "4       Angola   618   620   623   626   628   631   634   637   640  ...   \n",
       "\n",
       "    2031   2032   2033   2034   2035   2036   2037   2038   2039   2040  \n",
       "0   2550   2600   2660   2710   2770   2820   2880   2940   3000   3060  \n",
       "1  19400  19800  20200  20600  21000  21500  21900  22300  22800  23300  \n",
       "2  14300  14600  14900  15200  15500  15800  16100  16500  16800  17100  \n",
       "3  73600  75100  76700  78300  79800  81500  83100  84800  86500  88300  \n",
       "4   6110   6230   6350   6480   6610   6740   6880   7020   7160   7310  \n",
       "\n",
       "[5 rows x 242 columns]"
      ]
     },
     "execution_count": 3,
     "metadata": {},
     "output_type": "execute_result"
    }
   ],
   "source": [
    "gdp_cap.head()"
   ]
  },
  {
   "cell_type": "code",
   "execution_count": 4,
   "metadata": {},
   "outputs": [
    {
     "data": {
      "text/html": [
       "<div>\n",
       "<style scoped>\n",
       "    .dataframe tbody tr th:only-of-type {\n",
       "        vertical-align: middle;\n",
       "    }\n",
       "\n",
       "    .dataframe tbody tr th {\n",
       "        vertical-align: top;\n",
       "    }\n",
       "\n",
       "    .dataframe thead th {\n",
       "        text-align: right;\n",
       "    }\n",
       "</style>\n",
       "<table border=\"1\" class=\"dataframe\">\n",
       "  <thead>\n",
       "    <tr style=\"text-align: right;\">\n",
       "      <th></th>\n",
       "      <th>country</th>\n",
       "      <th>1800</th>\n",
       "      <th>1801</th>\n",
       "      <th>1802</th>\n",
       "      <th>1803</th>\n",
       "      <th>1804</th>\n",
       "      <th>1805</th>\n",
       "      <th>1806</th>\n",
       "      <th>1807</th>\n",
       "      <th>1808</th>\n",
       "      <th>...</th>\n",
       "      <th>2091</th>\n",
       "      <th>2092</th>\n",
       "      <th>2093</th>\n",
       "      <th>2094</th>\n",
       "      <th>2095</th>\n",
       "      <th>2096</th>\n",
       "      <th>2097</th>\n",
       "      <th>2098</th>\n",
       "      <th>2099</th>\n",
       "      <th>2100</th>\n",
       "    </tr>\n",
       "  </thead>\n",
       "  <tbody>\n",
       "    <tr>\n",
       "      <th>0</th>\n",
       "      <td>Afghanistan</td>\n",
       "      <td>3280000</td>\n",
       "      <td>3280000</td>\n",
       "      <td>3280000</td>\n",
       "      <td>3280000</td>\n",
       "      <td>3280000</td>\n",
       "      <td>3280000</td>\n",
       "      <td>3280000</td>\n",
       "      <td>3280000</td>\n",
       "      <td>3280000</td>\n",
       "      <td>...</td>\n",
       "      <td>76600000</td>\n",
       "      <td>76400000</td>\n",
       "      <td>76300000</td>\n",
       "      <td>76100000</td>\n",
       "      <td>76000000</td>\n",
       "      <td>75800000</td>\n",
       "      <td>75600000</td>\n",
       "      <td>75400000</td>\n",
       "      <td>75200000</td>\n",
       "      <td>74900000</td>\n",
       "    </tr>\n",
       "    <tr>\n",
       "      <th>1</th>\n",
       "      <td>Albania</td>\n",
       "      <td>400000</td>\n",
       "      <td>402000</td>\n",
       "      <td>404000</td>\n",
       "      <td>405000</td>\n",
       "      <td>407000</td>\n",
       "      <td>409000</td>\n",
       "      <td>411000</td>\n",
       "      <td>413000</td>\n",
       "      <td>414000</td>\n",
       "      <td>...</td>\n",
       "      <td>1330000</td>\n",
       "      <td>1300000</td>\n",
       "      <td>1270000</td>\n",
       "      <td>1250000</td>\n",
       "      <td>1220000</td>\n",
       "      <td>1190000</td>\n",
       "      <td>1170000</td>\n",
       "      <td>1140000</td>\n",
       "      <td>1110000</td>\n",
       "      <td>1090000</td>\n",
       "    </tr>\n",
       "    <tr>\n",
       "      <th>2</th>\n",
       "      <td>Algeria</td>\n",
       "      <td>2500000</td>\n",
       "      <td>2510000</td>\n",
       "      <td>2520000</td>\n",
       "      <td>2530000</td>\n",
       "      <td>2540000</td>\n",
       "      <td>2550000</td>\n",
       "      <td>2560000</td>\n",
       "      <td>2560000</td>\n",
       "      <td>2570000</td>\n",
       "      <td>...</td>\n",
       "      <td>70400000</td>\n",
       "      <td>70500000</td>\n",
       "      <td>70500000</td>\n",
       "      <td>70600000</td>\n",
       "      <td>70700000</td>\n",
       "      <td>70700000</td>\n",
       "      <td>70700000</td>\n",
       "      <td>70700000</td>\n",
       "      <td>70700000</td>\n",
       "      <td>70700000</td>\n",
       "    </tr>\n",
       "    <tr>\n",
       "      <th>3</th>\n",
       "      <td>Andorra</td>\n",
       "      <td>2650</td>\n",
       "      <td>2650</td>\n",
       "      <td>2650</td>\n",
       "      <td>2650</td>\n",
       "      <td>2650</td>\n",
       "      <td>2650</td>\n",
       "      <td>2650</td>\n",
       "      <td>2650</td>\n",
       "      <td>2650</td>\n",
       "      <td>...</td>\n",
       "      <td>63000</td>\n",
       "      <td>62900</td>\n",
       "      <td>62900</td>\n",
       "      <td>62800</td>\n",
       "      <td>62700</td>\n",
       "      <td>62700</td>\n",
       "      <td>62600</td>\n",
       "      <td>62500</td>\n",
       "      <td>62500</td>\n",
       "      <td>62400</td>\n",
       "    </tr>\n",
       "    <tr>\n",
       "      <th>4</th>\n",
       "      <td>Angola</td>\n",
       "      <td>1570000</td>\n",
       "      <td>1570000</td>\n",
       "      <td>1570000</td>\n",
       "      <td>1570000</td>\n",
       "      <td>1570000</td>\n",
       "      <td>1570000</td>\n",
       "      <td>1570000</td>\n",
       "      <td>1570000</td>\n",
       "      <td>1570000</td>\n",
       "      <td>...</td>\n",
       "      <td>168000000</td>\n",
       "      <td>170000000</td>\n",
       "      <td>172000000</td>\n",
       "      <td>175000000</td>\n",
       "      <td>177000000</td>\n",
       "      <td>179000000</td>\n",
       "      <td>182000000</td>\n",
       "      <td>184000000</td>\n",
       "      <td>186000000</td>\n",
       "      <td>188000000</td>\n",
       "    </tr>\n",
       "  </tbody>\n",
       "</table>\n",
       "<p>5 rows × 302 columns</p>\n",
       "</div>"
      ],
      "text/plain": [
       "       country     1800     1801     1802     1803     1804     1805     1806  \\\n",
       "0  Afghanistan  3280000  3280000  3280000  3280000  3280000  3280000  3280000   \n",
       "1      Albania   400000   402000   404000   405000   407000   409000   411000   \n",
       "2      Algeria  2500000  2510000  2520000  2530000  2540000  2550000  2560000   \n",
       "3      Andorra     2650     2650     2650     2650     2650     2650     2650   \n",
       "4       Angola  1570000  1570000  1570000  1570000  1570000  1570000  1570000   \n",
       "\n",
       "      1807     1808  ...       2091       2092       2093       2094  \\\n",
       "0  3280000  3280000  ...   76600000   76400000   76300000   76100000   \n",
       "1   413000   414000  ...    1330000    1300000    1270000    1250000   \n",
       "2  2560000  2570000  ...   70400000   70500000   70500000   70600000   \n",
       "3     2650     2650  ...      63000      62900      62900      62800   \n",
       "4  1570000  1570000  ...  168000000  170000000  172000000  175000000   \n",
       "\n",
       "        2095       2096       2097       2098       2099       2100  \n",
       "0   76000000   75800000   75600000   75400000   75200000   74900000  \n",
       "1    1220000    1190000    1170000    1140000    1110000    1090000  \n",
       "2   70700000   70700000   70700000   70700000   70700000   70700000  \n",
       "3      62700      62700      62600      62500      62500      62400  \n",
       "4  177000000  179000000  182000000  184000000  186000000  188000000  \n",
       "\n",
       "[5 rows x 302 columns]"
      ]
     },
     "execution_count": 4,
     "metadata": {},
     "output_type": "execute_result"
    }
   ],
   "source": [
    "population.head()"
   ]
  },
  {
   "cell_type": "code",
   "execution_count": 5,
   "metadata": {},
   "outputs": [
    {
     "data": {
      "text/html": [
       "<div>\n",
       "<style scoped>\n",
       "    .dataframe tbody tr th:only-of-type {\n",
       "        vertical-align: middle;\n",
       "    }\n",
       "\n",
       "    .dataframe tbody tr th {\n",
       "        vertical-align: top;\n",
       "    }\n",
       "\n",
       "    .dataframe thead th {\n",
       "        text-align: right;\n",
       "    }\n",
       "</style>\n",
       "<table border=\"1\" class=\"dataframe\">\n",
       "  <thead>\n",
       "    <tr style=\"text-align: right;\">\n",
       "      <th></th>\n",
       "      <th>country</th>\n",
       "      <th>1800</th>\n",
       "      <th>1801</th>\n",
       "      <th>1802</th>\n",
       "      <th>1803</th>\n",
       "      <th>1804</th>\n",
       "      <th>1805</th>\n",
       "      <th>1806</th>\n",
       "      <th>1807</th>\n",
       "      <th>1808</th>\n",
       "      <th>...</th>\n",
       "      <th>2091</th>\n",
       "      <th>2092</th>\n",
       "      <th>2093</th>\n",
       "      <th>2094</th>\n",
       "      <th>2095</th>\n",
       "      <th>2096</th>\n",
       "      <th>2097</th>\n",
       "      <th>2098</th>\n",
       "      <th>2099</th>\n",
       "      <th>2100</th>\n",
       "    </tr>\n",
       "  </thead>\n",
       "  <tbody>\n",
       "    <tr>\n",
       "      <th>0</th>\n",
       "      <td>Afghanistan</td>\n",
       "      <td>28.2</td>\n",
       "      <td>28.2</td>\n",
       "      <td>28.2</td>\n",
       "      <td>28.2</td>\n",
       "      <td>28.2</td>\n",
       "      <td>28.2</td>\n",
       "      <td>28.1</td>\n",
       "      <td>28.1</td>\n",
       "      <td>28.1</td>\n",
       "      <td>...</td>\n",
       "      <td>76.5</td>\n",
       "      <td>76.6</td>\n",
       "      <td>76.7</td>\n",
       "      <td>76.9</td>\n",
       "      <td>77.0</td>\n",
       "      <td>77.1</td>\n",
       "      <td>77.3</td>\n",
       "      <td>77.4</td>\n",
       "      <td>77.5</td>\n",
       "      <td>77.7</td>\n",
       "    </tr>\n",
       "    <tr>\n",
       "      <th>1</th>\n",
       "      <td>Albania</td>\n",
       "      <td>35.4</td>\n",
       "      <td>35.4</td>\n",
       "      <td>35.4</td>\n",
       "      <td>35.4</td>\n",
       "      <td>35.4</td>\n",
       "      <td>35.4</td>\n",
       "      <td>35.4</td>\n",
       "      <td>35.4</td>\n",
       "      <td>35.4</td>\n",
       "      <td>...</td>\n",
       "      <td>87.4</td>\n",
       "      <td>87.5</td>\n",
       "      <td>87.6</td>\n",
       "      <td>87.7</td>\n",
       "      <td>87.8</td>\n",
       "      <td>87.9</td>\n",
       "      <td>88.0</td>\n",
       "      <td>88.1</td>\n",
       "      <td>88.2</td>\n",
       "      <td>88.3</td>\n",
       "    </tr>\n",
       "    <tr>\n",
       "      <th>2</th>\n",
       "      <td>Algeria</td>\n",
       "      <td>28.8</td>\n",
       "      <td>28.8</td>\n",
       "      <td>28.8</td>\n",
       "      <td>28.8</td>\n",
       "      <td>28.8</td>\n",
       "      <td>28.8</td>\n",
       "      <td>28.8</td>\n",
       "      <td>28.8</td>\n",
       "      <td>28.8</td>\n",
       "      <td>...</td>\n",
       "      <td>88.3</td>\n",
       "      <td>88.4</td>\n",
       "      <td>88.5</td>\n",
       "      <td>88.6</td>\n",
       "      <td>88.7</td>\n",
       "      <td>88.8</td>\n",
       "      <td>88.9</td>\n",
       "      <td>89.0</td>\n",
       "      <td>89.1</td>\n",
       "      <td>89.2</td>\n",
       "    </tr>\n",
       "    <tr>\n",
       "      <th>3</th>\n",
       "      <td>Andorra</td>\n",
       "      <td>NaN</td>\n",
       "      <td>NaN</td>\n",
       "      <td>NaN</td>\n",
       "      <td>NaN</td>\n",
       "      <td>NaN</td>\n",
       "      <td>NaN</td>\n",
       "      <td>NaN</td>\n",
       "      <td>NaN</td>\n",
       "      <td>NaN</td>\n",
       "      <td>...</td>\n",
       "      <td>NaN</td>\n",
       "      <td>NaN</td>\n",
       "      <td>NaN</td>\n",
       "      <td>NaN</td>\n",
       "      <td>NaN</td>\n",
       "      <td>NaN</td>\n",
       "      <td>NaN</td>\n",
       "      <td>NaN</td>\n",
       "      <td>NaN</td>\n",
       "      <td>NaN</td>\n",
       "    </tr>\n",
       "    <tr>\n",
       "      <th>4</th>\n",
       "      <td>Angola</td>\n",
       "      <td>27.0</td>\n",
       "      <td>27.0</td>\n",
       "      <td>27.0</td>\n",
       "      <td>27.0</td>\n",
       "      <td>27.0</td>\n",
       "      <td>27.0</td>\n",
       "      <td>27.0</td>\n",
       "      <td>27.0</td>\n",
       "      <td>27.0</td>\n",
       "      <td>...</td>\n",
       "      <td>78.7</td>\n",
       "      <td>78.9</td>\n",
       "      <td>79.0</td>\n",
       "      <td>79.1</td>\n",
       "      <td>79.3</td>\n",
       "      <td>79.4</td>\n",
       "      <td>79.5</td>\n",
       "      <td>79.7</td>\n",
       "      <td>79.8</td>\n",
       "      <td>79.9</td>\n",
       "    </tr>\n",
       "  </tbody>\n",
       "</table>\n",
       "<p>5 rows × 302 columns</p>\n",
       "</div>"
      ],
      "text/plain": [
       "       country  1800  1801  1802  1803  1804  1805  1806  1807  1808  ...  \\\n",
       "0  Afghanistan  28.2  28.2  28.2  28.2  28.2  28.2  28.1  28.1  28.1  ...   \n",
       "1      Albania  35.4  35.4  35.4  35.4  35.4  35.4  35.4  35.4  35.4  ...   \n",
       "2      Algeria  28.8  28.8  28.8  28.8  28.8  28.8  28.8  28.8  28.8  ...   \n",
       "3      Andorra   NaN   NaN   NaN   NaN   NaN   NaN   NaN   NaN   NaN  ...   \n",
       "4       Angola  27.0  27.0  27.0  27.0  27.0  27.0  27.0  27.0  27.0  ...   \n",
       "\n",
       "   2091  2092  2093  2094  2095  2096  2097  2098  2099  2100  \n",
       "0  76.5  76.6  76.7  76.9  77.0  77.1  77.3  77.4  77.5  77.7  \n",
       "1  87.4  87.5  87.6  87.7  87.8  87.9  88.0  88.1  88.2  88.3  \n",
       "2  88.3  88.4  88.5  88.6  88.7  88.8  88.9  89.0  89.1  89.2  \n",
       "3   NaN   NaN   NaN   NaN   NaN   NaN   NaN   NaN   NaN   NaN  \n",
       "4  78.7  78.9  79.0  79.1  79.3  79.4  79.5  79.7  79.8  79.9  \n",
       "\n",
       "[5 rows x 302 columns]"
      ]
     },
     "execution_count": 5,
     "metadata": {},
     "output_type": "execute_result"
    }
   ],
   "source": [
    "life_exp.head()"
   ]
  },
  {
   "cell_type": "code",
   "execution_count": 6,
   "metadata": {},
   "outputs": [
    {
     "data": {
      "text/html": [
       "<div>\n",
       "<style scoped>\n",
       "    .dataframe tbody tr th:only-of-type {\n",
       "        vertical-align: middle;\n",
       "    }\n",
       "\n",
       "    .dataframe tbody tr th {\n",
       "        vertical-align: top;\n",
       "    }\n",
       "\n",
       "    .dataframe thead th {\n",
       "        text-align: right;\n",
       "    }\n",
       "</style>\n",
       "<table border=\"1\" class=\"dataframe\">\n",
       "  <thead>\n",
       "    <tr style=\"text-align: right;\">\n",
       "      <th></th>\n",
       "      <th>country</th>\n",
       "      <th>1995</th>\n",
       "      <th>1996</th>\n",
       "      <th>1997</th>\n",
       "      <th>1998</th>\n",
       "      <th>1999</th>\n",
       "      <th>2000</th>\n",
       "      <th>2001</th>\n",
       "      <th>2002</th>\n",
       "      <th>2003</th>\n",
       "      <th>2004</th>\n",
       "      <th>2005</th>\n",
       "      <th>2006</th>\n",
       "      <th>2007</th>\n",
       "      <th>2008</th>\n",
       "      <th>2009</th>\n",
       "      <th>2010</th>\n",
       "    </tr>\n",
       "  </thead>\n",
       "  <tbody>\n",
       "    <tr>\n",
       "      <th>0</th>\n",
       "      <td>Afghanistan</td>\n",
       "      <td>NaN</td>\n",
       "      <td>NaN</td>\n",
       "      <td>NaN</td>\n",
       "      <td>NaN</td>\n",
       "      <td>NaN</td>\n",
       "      <td>NaN</td>\n",
       "      <td>NaN</td>\n",
       "      <td>0.0572</td>\n",
       "      <td>0.0682</td>\n",
       "      <td>0.0636</td>\n",
       "      <td>0.0663</td>\n",
       "      <td>0.0677</td>\n",
       "      <td>0.0730</td>\n",
       "      <td>0.0698</td>\n",
       "      <td>0.0758</td>\n",
       "      <td>0.0758</td>\n",
       "    </tr>\n",
       "    <tr>\n",
       "      <th>1</th>\n",
       "      <td>Albania</td>\n",
       "      <td>0.0256</td>\n",
       "      <td>0.0404</td>\n",
       "      <td>0.0481</td>\n",
       "      <td>0.0534</td>\n",
       "      <td>0.0583</td>\n",
       "      <td>0.0635</td>\n",
       "      <td>0.0604</td>\n",
       "      <td>0.0628</td>\n",
       "      <td>0.0616</td>\n",
       "      <td>0.0688</td>\n",
       "      <td>0.0684</td>\n",
       "      <td>0.0673</td>\n",
       "      <td>0.0688</td>\n",
       "      <td>0.0675</td>\n",
       "      <td>0.0688</td>\n",
       "      <td>0.0655</td>\n",
       "    </tr>\n",
       "    <tr>\n",
       "      <th>2</th>\n",
       "      <td>Algeria</td>\n",
       "      <td>0.0417</td>\n",
       "      <td>0.0379</td>\n",
       "      <td>0.0406</td>\n",
       "      <td>0.0406</td>\n",
       "      <td>0.0387</td>\n",
       "      <td>0.0349</td>\n",
       "      <td>0.0384</td>\n",
       "      <td>0.0387</td>\n",
       "      <td>0.0374</td>\n",
       "      <td>0.0338</td>\n",
       "      <td>0.0306</td>\n",
       "      <td>0.0313</td>\n",
       "      <td>0.0353</td>\n",
       "      <td>0.0373</td>\n",
       "      <td>0.0458</td>\n",
       "      <td>0.0417</td>\n",
       "    </tr>\n",
       "    <tr>\n",
       "      <th>3</th>\n",
       "      <td>Andorra</td>\n",
       "      <td>0.0764</td>\n",
       "      <td>0.0803</td>\n",
       "      <td>0.0803</td>\n",
       "      <td>0.0985</td>\n",
       "      <td>0.0735</td>\n",
       "      <td>0.0758</td>\n",
       "      <td>0.0679</td>\n",
       "      <td>0.0704</td>\n",
       "      <td>0.0712</td>\n",
       "      <td>0.0711</td>\n",
       "      <td>0.0722</td>\n",
       "      <td>0.0744</td>\n",
       "      <td>0.0755</td>\n",
       "      <td>0.0754</td>\n",
       "      <td>0.0752</td>\n",
       "      <td>0.0752</td>\n",
       "    </tr>\n",
       "    <tr>\n",
       "      <th>4</th>\n",
       "      <td>Angola</td>\n",
       "      <td>0.0379</td>\n",
       "      <td>0.0217</td>\n",
       "      <td>0.0226</td>\n",
       "      <td>0.0185</td>\n",
       "      <td>0.0194</td>\n",
       "      <td>0.0241</td>\n",
       "      <td>0.0345</td>\n",
       "      <td>0.0236</td>\n",
       "      <td>0.0264</td>\n",
       "      <td>0.0209</td>\n",
       "      <td>0.0196</td>\n",
       "      <td>0.0242</td>\n",
       "      <td>0.0252</td>\n",
       "      <td>0.0319</td>\n",
       "      <td>0.0495</td>\n",
       "      <td>0.0285</td>\n",
       "    </tr>\n",
       "  </tbody>\n",
       "</table>\n",
       "</div>"
      ],
      "text/plain": [
       "       country    1995    1996    1997    1998    1999    2000    2001  \\\n",
       "0  Afghanistan     NaN     NaN     NaN     NaN     NaN     NaN     NaN   \n",
       "1      Albania  0.0256  0.0404  0.0481  0.0534  0.0583  0.0635  0.0604   \n",
       "2      Algeria  0.0417  0.0379  0.0406  0.0406  0.0387  0.0349  0.0384   \n",
       "3      Andorra  0.0764  0.0803  0.0803  0.0985  0.0735  0.0758  0.0679   \n",
       "4       Angola  0.0379  0.0217  0.0226  0.0185  0.0194  0.0241  0.0345   \n",
       "\n",
       "     2002    2003    2004    2005    2006    2007    2008    2009    2010  \n",
       "0  0.0572  0.0682  0.0636  0.0663  0.0677  0.0730  0.0698  0.0758  0.0758  \n",
       "1  0.0628  0.0616  0.0688  0.0684  0.0673  0.0688  0.0675  0.0688  0.0655  \n",
       "2  0.0387  0.0374  0.0338  0.0306  0.0313  0.0353  0.0373  0.0458  0.0417  \n",
       "3  0.0704  0.0712  0.0711  0.0722  0.0744  0.0755  0.0754  0.0752  0.0752  \n",
       "4  0.0236  0.0264  0.0209  0.0196  0.0242  0.0252  0.0319  0.0495  0.0285  "
      ]
     },
     "execution_count": 6,
     "metadata": {},
     "output_type": "execute_result"
    }
   ],
   "source": [
    "health_spending.head()"
   ]
  },
  {
   "cell_type": "markdown",
   "metadata": {},
   "source": [
    "<a id='wrangling'></a>\n",
    "## Data Cleaning "
   ]
  },
  {
   "cell_type": "code",
   "execution_count": 7,
   "metadata": {},
   "outputs": [],
   "source": [
    "#copy data\n",
    "gdp_cap_1 = gdp_cap.copy()\n",
    "population_1 = population.copy()\n",
    "life_exp_1 = life_exp.copy()\n",
    "health_spending_1 = health_spending.copy()"
   ]
  },
  {
   "cell_type": "code",
   "execution_count": 8,
   "metadata": {},
   "outputs": [],
   "source": [
    "#selecting only years that I will make the analysis on it\n",
    "gdp_cap_1= gdp_cap_1.loc[:,['country','2010']]\n",
    "population_1= population_1.loc[:,['country','2010']]\n",
    "life_exp_1= life_exp_1.loc[:,['country','2010']]\n",
    "health_spending_1=health_spending_1.loc[:,['country','2010']]"
   ]
  },
  {
   "cell_type": "code",
   "execution_count": 9,
   "metadata": {},
   "outputs": [],
   "source": [
    "#edit column names \n",
    "gdp_cap_1.rename(columns={'2010': 'GDP_cap'}, inplace= True)\n",
    "population_1.rename(columns={'2010': 'population'}, inplace= True)\n",
    "life_exp_1.rename(columns={'2010': 'life_exp'}, inplace= True)\n",
    "health_spending_1.rename(columns={'2010': 'health_spending'}, inplace= True)"
   ]
  },
  {
   "cell_type": "code",
   "execution_count": 10,
   "metadata": {},
   "outputs": [
    {
     "name": "stdout",
     "output_type": "stream",
     "text": [
      "<class 'pandas.core.frame.DataFrame'>\n",
      "RangeIndex: 193 entries, 0 to 192\n",
      "Data columns (total 2 columns):\n",
      " #   Column   Non-Null Count  Dtype \n",
      "---  ------   --------------  ----- \n",
      " 0   country  193 non-null    object\n",
      " 1   GDP_cap  193 non-null    int64 \n",
      "dtypes: int64(1), object(1)\n",
      "memory usage: 3.1+ KB\n",
      "None\n",
      "<class 'pandas.core.frame.DataFrame'>\n",
      "RangeIndex: 195 entries, 0 to 194\n",
      "Data columns (total 2 columns):\n",
      " #   Column      Non-Null Count  Dtype \n",
      "---  ------      --------------  ----- \n",
      " 0   country     195 non-null    object\n",
      " 1   population  195 non-null    int64 \n",
      "dtypes: int64(1), object(1)\n",
      "memory usage: 3.2+ KB\n",
      "None\n",
      "<class 'pandas.core.frame.DataFrame'>\n",
      "RangeIndex: 187 entries, 0 to 186\n",
      "Data columns (total 2 columns):\n",
      " #   Column    Non-Null Count  Dtype  \n",
      "---  ------    --------------  -----  \n",
      " 0   country   187 non-null    object \n",
      " 1   life_exp  187 non-null    float64\n",
      "dtypes: float64(1), object(1)\n",
      "memory usage: 3.0+ KB\n",
      "None\n",
      "<class 'pandas.core.frame.DataFrame'>\n",
      "RangeIndex: 190 entries, 0 to 189\n",
      "Data columns (total 2 columns):\n",
      " #   Column           Non-Null Count  Dtype  \n",
      "---  ------           --------------  -----  \n",
      " 0   country          190 non-null    object \n",
      " 1   health_spending  185 non-null    float64\n",
      "dtypes: float64(1), object(1)\n",
      "memory usage: 3.1+ KB\n",
      "None\n"
     ]
    }
   ],
   "source": [
    "#check that only 2 years that I have interested in only selected\n",
    "print(gdp_cap_1.info())\n",
    "print(population_1.info())\n",
    "print(life_exp_1.info())\n",
    "print(health_spending_1.info())"
   ]
  },
  {
   "cell_type": "markdown",
   "metadata": {},
   "source": [
    "**I will make my analysis in 2010 so I will make new dataframs that will include the 4 indictors combine in 1 dataframe** \n"
   ]
  },
  {
   "cell_type": "code",
   "execution_count": 11,
   "metadata": {},
   "outputs": [
    {
     "name": "stderr",
     "output_type": "stream",
     "text": [
      "<ipython-input-11-f416a0518016>:4: FutureWarning: Indexing with multiple keys (implicitly converted to a tuple of keys) will be deprecated, use a list instead.\n",
      "  df = df.groupby('country')['GDP_cap', 'population','life_exp','health_spending'].sum().reset_index()\n"
     ]
    }
   ],
   "source": [
    "#make new dataframe include all indictores in 2010\n",
    "dataframe_list=[gdp_cap_1, population_1, life_exp_1, health_spending_1]\n",
    "df = pd.concat(dataframe_list)\n",
    "df = df.groupby('country')['GDP_cap', 'population','life_exp','health_spending'].sum().reset_index()"
   ]
  },
  {
   "cell_type": "code",
   "execution_count": 12,
   "metadata": {},
   "outputs": [
    {
     "data": {
      "text/html": [
       "<div>\n",
       "<style scoped>\n",
       "    .dataframe tbody tr th:only-of-type {\n",
       "        vertical-align: middle;\n",
       "    }\n",
       "\n",
       "    .dataframe tbody tr th {\n",
       "        vertical-align: top;\n",
       "    }\n",
       "\n",
       "    .dataframe thead th {\n",
       "        text-align: right;\n",
       "    }\n",
       "</style>\n",
       "<table border=\"1\" class=\"dataframe\">\n",
       "  <thead>\n",
       "    <tr style=\"text-align: right;\">\n",
       "      <th></th>\n",
       "      <th>country</th>\n",
       "      <th>GDP_cap</th>\n",
       "      <th>population</th>\n",
       "      <th>life_exp</th>\n",
       "      <th>health_spending</th>\n",
       "    </tr>\n",
       "  </thead>\n",
       "  <tbody>\n",
       "    <tr>\n",
       "      <th>0</th>\n",
       "      <td>Afghanistan</td>\n",
       "      <td>1670.0</td>\n",
       "      <td>29200000.0</td>\n",
       "      <td>59.9</td>\n",
       "      <td>0.0758</td>\n",
       "    </tr>\n",
       "    <tr>\n",
       "      <th>1</th>\n",
       "      <td>Albania</td>\n",
       "      <td>9930.0</td>\n",
       "      <td>2950000.0</td>\n",
       "      <td>77.6</td>\n",
       "      <td>0.0655</td>\n",
       "    </tr>\n",
       "    <tr>\n",
       "      <th>2</th>\n",
       "      <td>Algeria</td>\n",
       "      <td>12900.0</td>\n",
       "      <td>36000000.0</td>\n",
       "      <td>76.3</td>\n",
       "      <td>0.0417</td>\n",
       "    </tr>\n",
       "    <tr>\n",
       "      <th>3</th>\n",
       "      <td>Andorra</td>\n",
       "      <td>39000.0</td>\n",
       "      <td>84500.0</td>\n",
       "      <td>82.3</td>\n",
       "      <td>0.0752</td>\n",
       "    </tr>\n",
       "    <tr>\n",
       "      <th>4</th>\n",
       "      <td>Angola</td>\n",
       "      <td>6360.0</td>\n",
       "      <td>23400000.0</td>\n",
       "      <td>59.9</td>\n",
       "      <td>0.0285</td>\n",
       "    </tr>\n",
       "  </tbody>\n",
       "</table>\n",
       "</div>"
      ],
      "text/plain": [
       "       country  GDP_cap  population  life_exp  health_spending\n",
       "0  Afghanistan   1670.0  29200000.0      59.9           0.0758\n",
       "1      Albania   9930.0   2950000.0      77.6           0.0655\n",
       "2      Algeria  12900.0  36000000.0      76.3           0.0417\n",
       "3      Andorra  39000.0     84500.0      82.3           0.0752\n",
       "4       Angola   6360.0  23400000.0      59.9           0.0285"
      ]
     },
     "execution_count": 12,
     "metadata": {},
     "output_type": "execute_result"
    }
   ],
   "source": [
    "df.head()"
   ]
  },
  {
   "cell_type": "code",
   "execution_count": 13,
   "metadata": {},
   "outputs": [
    {
     "data": {
      "text/html": [
       "<div>\n",
       "<style scoped>\n",
       "    .dataframe tbody tr th:only-of-type {\n",
       "        vertical-align: middle;\n",
       "    }\n",
       "\n",
       "    .dataframe tbody tr th {\n",
       "        vertical-align: top;\n",
       "    }\n",
       "\n",
       "    .dataframe thead th {\n",
       "        text-align: right;\n",
       "    }\n",
       "</style>\n",
       "<table border=\"1\" class=\"dataframe\">\n",
       "  <thead>\n",
       "    <tr style=\"text-align: right;\">\n",
       "      <th></th>\n",
       "      <th>country</th>\n",
       "      <th>GDP_cap</th>\n",
       "      <th>population</th>\n",
       "      <th>life_exp</th>\n",
       "      <th>health_spending</th>\n",
       "    </tr>\n",
       "  </thead>\n",
       "  <tbody>\n",
       "    <tr>\n",
       "      <th>0</th>\n",
       "      <td>Afghanistan</td>\n",
       "      <td>1670.0</td>\n",
       "      <td>29200000.0</td>\n",
       "      <td>59.9</td>\n",
       "      <td>0.0758</td>\n",
       "    </tr>\n",
       "    <tr>\n",
       "      <th>1</th>\n",
       "      <td>Albania</td>\n",
       "      <td>9930.0</td>\n",
       "      <td>2950000.0</td>\n",
       "      <td>77.6</td>\n",
       "      <td>0.0655</td>\n",
       "    </tr>\n",
       "    <tr>\n",
       "      <th>2</th>\n",
       "      <td>Algeria</td>\n",
       "      <td>12900.0</td>\n",
       "      <td>36000000.0</td>\n",
       "      <td>76.3</td>\n",
       "      <td>0.0417</td>\n",
       "    </tr>\n",
       "    <tr>\n",
       "      <th>3</th>\n",
       "      <td>Andorra</td>\n",
       "      <td>39000.0</td>\n",
       "      <td>84500.0</td>\n",
       "      <td>82.3</td>\n",
       "      <td>0.0752</td>\n",
       "    </tr>\n",
       "    <tr>\n",
       "      <th>4</th>\n",
       "      <td>Angola</td>\n",
       "      <td>6360.0</td>\n",
       "      <td>23400000.0</td>\n",
       "      <td>59.9</td>\n",
       "      <td>0.0285</td>\n",
       "    </tr>\n",
       "  </tbody>\n",
       "</table>\n",
       "</div>"
      ],
      "text/plain": [
       "       country  GDP_cap  population  life_exp  health_spending\n",
       "0  Afghanistan   1670.0  29200000.0      59.9           0.0758\n",
       "1      Albania   9930.0   2950000.0      77.6           0.0655\n",
       "2      Algeria  12900.0  36000000.0      76.3           0.0417\n",
       "3      Andorra  39000.0     84500.0      82.3           0.0752\n",
       "4       Angola   6360.0  23400000.0      59.9           0.0285"
      ]
     },
     "execution_count": 13,
     "metadata": {},
     "output_type": "execute_result"
    }
   ],
   "source": [
    "#replace zero values with NAN \n",
    "df.replace(0, np.nan, inplace = True)\n",
    "df.head()"
   ]
  },
  {
   "cell_type": "code",
   "execution_count": 14,
   "metadata": {},
   "outputs": [
    {
     "data": {
      "text/plain": [
       "country             0\n",
       "GDP_cap             2\n",
       "population          0\n",
       "life_exp            8\n",
       "health_spending    10\n",
       "dtype: int64"
      ]
     },
     "execution_count": 14,
     "metadata": {},
     "output_type": "execute_result"
    }
   ],
   "source": [
    "#checking for missing values\n",
    "df.isnull().sum()"
   ]
  },
  {
   "cell_type": "code",
   "execution_count": 15,
   "metadata": {},
   "outputs": [
    {
     "name": "stdout",
     "output_type": "stream",
     "text": [
      "<class 'pandas.core.frame.DataFrame'>\n",
      "Int64Index: 179 entries, 0 to 193\n",
      "Data columns (total 5 columns):\n",
      " #   Column           Non-Null Count  Dtype  \n",
      "---  ------           --------------  -----  \n",
      " 0   country          179 non-null    object \n",
      " 1   GDP_cap          179 non-null    float64\n",
      " 2   population       179 non-null    float64\n",
      " 3   life_exp         179 non-null    float64\n",
      " 4   health_spending  179 non-null    float64\n",
      "dtypes: float64(4), object(1)\n",
      "memory usage: 8.4+ KB\n"
     ]
    }
   ],
   "source": [
    "#drop missing values\n",
    "df.dropna(inplace=True)\n",
    "#confirm that all missing values removed\n",
    "df.info()"
   ]
  },
  {
   "cell_type": "code",
   "execution_count": 16,
   "metadata": {},
   "outputs": [],
   "source": [
    "#convert GDP and populationfrom float to integer\n",
    "df[['GDP_cap','population']]= df[['GDP_cap','population']].astype(int)"
   ]
  },
  {
   "cell_type": "code",
   "execution_count": 17,
   "metadata": {},
   "outputs": [
    {
     "data": {
      "text/plain": [
       "0      7.58\n",
       "1      6.55\n",
       "2      4.17\n",
       "3      7.52\n",
       "4      2.85\n",
       "       ... \n",
       "189    5.25\n",
       "190    4.91\n",
       "191    6.84\n",
       "192    5.18\n",
       "193    5.89\n",
       "Name: health_spending, Length: 179, dtype: float64"
      ]
     },
     "execution_count": 17,
     "metadata": {},
     "output_type": "execute_result"
    }
   ],
   "source": [
    "#edit health spending column by multiplying all values by 100 \n",
    "df['health_spending']= df['health_spending']*100\n",
    "df['health_spending']"
   ]
  },
  {
   "cell_type": "code",
   "execution_count": 18,
   "metadata": {},
   "outputs": [
    {
     "name": "stdout",
     "output_type": "stream",
     "text": [
      "<class 'pandas.core.frame.DataFrame'>\n",
      "Int64Index: 179 entries, 0 to 193\n",
      "Data columns (total 5 columns):\n",
      " #   Column           Non-Null Count  Dtype  \n",
      "---  ------           --------------  -----  \n",
      " 0   country          179 non-null    object \n",
      " 1   GDP_cap          179 non-null    int32  \n",
      " 2   population       179 non-null    int32  \n",
      " 3   life_exp         179 non-null    float64\n",
      " 4   health_spending  179 non-null    float64\n",
      "dtypes: float64(2), int32(2), object(1)\n",
      "memory usage: 7.0+ KB\n"
     ]
    }
   ],
   "source": [
    "df.info()"
   ]
  },
  {
   "cell_type": "code",
   "execution_count": 19,
   "metadata": {},
   "outputs": [
    {
     "data": {
      "text/html": [
       "<div>\n",
       "<style scoped>\n",
       "    .dataframe tbody tr th:only-of-type {\n",
       "        vertical-align: middle;\n",
       "    }\n",
       "\n",
       "    .dataframe tbody tr th {\n",
       "        vertical-align: top;\n",
       "    }\n",
       "\n",
       "    .dataframe thead th {\n",
       "        text-align: right;\n",
       "    }\n",
       "</style>\n",
       "<table border=\"1\" class=\"dataframe\">\n",
       "  <thead>\n",
       "    <tr style=\"text-align: right;\">\n",
       "      <th></th>\n",
       "      <th>country</th>\n",
       "      <th>GDP_cap</th>\n",
       "      <th>population</th>\n",
       "      <th>life_exp</th>\n",
       "      <th>health_spending</th>\n",
       "    </tr>\n",
       "  </thead>\n",
       "  <tbody>\n",
       "    <tr>\n",
       "      <th>0</th>\n",
       "      <td>Afghanistan</td>\n",
       "      <td>1670</td>\n",
       "      <td>29200000</td>\n",
       "      <td>59.9</td>\n",
       "      <td>7.58</td>\n",
       "    </tr>\n",
       "    <tr>\n",
       "      <th>1</th>\n",
       "      <td>Albania</td>\n",
       "      <td>9930</td>\n",
       "      <td>2950000</td>\n",
       "      <td>77.6</td>\n",
       "      <td>6.55</td>\n",
       "    </tr>\n",
       "    <tr>\n",
       "      <th>2</th>\n",
       "      <td>Algeria</td>\n",
       "      <td>12900</td>\n",
       "      <td>36000000</td>\n",
       "      <td>76.3</td>\n",
       "      <td>4.17</td>\n",
       "    </tr>\n",
       "    <tr>\n",
       "      <th>3</th>\n",
       "      <td>Andorra</td>\n",
       "      <td>39000</td>\n",
       "      <td>84500</td>\n",
       "      <td>82.3</td>\n",
       "      <td>7.52</td>\n",
       "    </tr>\n",
       "    <tr>\n",
       "      <th>4</th>\n",
       "      <td>Angola</td>\n",
       "      <td>6360</td>\n",
       "      <td>23400000</td>\n",
       "      <td>59.9</td>\n",
       "      <td>2.85</td>\n",
       "    </tr>\n",
       "  </tbody>\n",
       "</table>\n",
       "</div>"
      ],
      "text/plain": [
       "       country  GDP_cap  population  life_exp  health_spending\n",
       "0  Afghanistan     1670    29200000      59.9             7.58\n",
       "1      Albania     9930     2950000      77.6             6.55\n",
       "2      Algeria    12900    36000000      76.3             4.17\n",
       "3      Andorra    39000       84500      82.3             7.52\n",
       "4       Angola     6360    23400000      59.9             2.85"
      ]
     },
     "execution_count": 19,
     "metadata": {},
     "output_type": "execute_result"
    }
   ],
   "source": [
    "df.head()"
   ]
  },
  {
   "cell_type": "code",
   "execution_count": 20,
   "metadata": {},
   "outputs": [
    {
     "data": {
      "text/plain": [
       "count       179.000000\n",
       "mean      16825.994413\n",
       "std       18736.667394\n",
       "min         660.000000\n",
       "25%        3370.000000\n",
       "50%       10000.000000\n",
       "75%       22550.000000\n",
       "max      120000.000000\n",
       "Name: GDP_cap, dtype: float64"
      ]
     },
     "execution_count": 20,
     "metadata": {},
     "output_type": "execute_result"
    }
   ],
   "source": [
    "#summary statistics for GDP per capita\n",
    "df['GDP_cap'].describe()"
   ]
  },
  {
   "cell_type": "markdown",
   "metadata": {},
   "source": [
    "summary statistics reveal that annual GDP per capita ranges from 660 to 12,000. the mean is 16,825  is greater than median 10,000, meaning that the distribution is right-skewed with higher end outliers."
   ]
  },
  {
   "cell_type": "code",
   "execution_count": 21,
   "metadata": {},
   "outputs": [
    {
     "data": {
      "text/plain": [
       "count    179.000000\n",
       "mean      70.648603\n",
       "std        8.832005\n",
       "min       32.500000\n",
       "25%       64.150000\n",
       "50%       73.400000\n",
       "75%       77.100000\n",
       "max       83.200000\n",
       "Name: life_exp, dtype: float64"
      ]
     },
     "execution_count": 21,
     "metadata": {},
     "output_type": "execute_result"
    }
   ],
   "source": [
    "#summary statistics for life expectancy\n",
    "df['life_exp'].describe()"
   ]
  },
  {
   "cell_type": "markdown",
   "metadata": {},
   "source": [
    "summary statistics reveal that life expectancy ranges from 30 to 80 years.\n",
    "the mean is 70 is smaller than the median 73, that mean the distribution is left-skewed with lower end outliers."
   ]
  },
  {
   "cell_type": "markdown",
   "metadata": {},
   "source": [
    "<a id='eda'></a>\n",
    "# Exploring data\n",
    "## Univariate Exploration\n",
    "\n",
    "> I'll start by looking at the distribution of the main variable of interest: GDP per capita and life expectancy"
   ]
  },
  {
   "cell_type": "code",
   "execution_count": 22,
   "metadata": {},
   "outputs": [
    {
     "data": {
      "text/plain": [
       "(0.0, 120000.0)"
      ]
     },
     "execution_count": 22,
     "metadata": {},
     "output_type": "execute_result"
    },
    {
     "data": {
      "image/png": "[encoded data removed]",
      "text/plain": [
       "<Figure size 432x288 with 1 Axes>"
      ]
     },
     "metadata": {
      "needs_background": "light"
     },
     "output_type": "display_data"
    }
   ],
   "source": [
    "#histogram of GDP per capita\n",
    "bins = np.arange(400,df['GDP_cap'].max()+1000,1000)\n",
    "sns.distplot(df.GDP_cap, bins = bins);\n",
    "plt.xlim(0,120000)"
   ]
  },
  {
   "cell_type": "code",
   "execution_count": 23,
   "metadata": {},
   "outputs": [
    {
     "data": {
      "text/plain": [
       "Text(0.5, 1.0, 'GDP per capita in USD ')"
      ]
     },
     "execution_count": 23,
     "metadata": {},
     "output_type": "execute_result"
    },
    {
     "data": {
      "image/png": "[encoded data removed]",
      "text/plain": [
       "<Figure size 432x288 with 1 Axes>"
      ]
     },
     "metadata": {
      "needs_background": "light"
     },
     "output_type": "display_data"
    }
   ],
   "source": [
    "# put GDP on a log scale to handle the skweed tails\n",
    "log_binsize= 0.05\n",
    "bins = 10 ** np.arange(2.6,np.log10(df['GDP_cap'].max())+log_binsize,log_binsize)\n",
    "sns.distplot(df.GDP_cap, bins = bins);\n",
    "plt.xscale('log')\n",
    "plt.xticks([500,1e3, 2e3, 5e3,1e4,2e4,5e4,1e5],[500,'1k','2k','5k','10k','20k','50k','100k']);\n",
    "plt.xlim(500,100000)\n",
    "plt.xlabel(\"Average GDP per capita ($)\")\n",
    "plt.ylabel('frequency')\n",
    "plt.title(\"GDP per capita in USD \")\n"
   ]
  },
  {
   "cell_type": "markdown",
   "metadata": {},
   "source": [
    "the histgram illustrates that GDP per capita distribution is right-skewed with higher end outliers when plotted GDP per capita on log scale the distribution looks multimodel and these peaks(5K,7k,10k)represent standard GDP per capita "
   ]
  },
  {
   "cell_type": "code",
   "execution_count": 24,
   "metadata": {},
   "outputs": [
    {
     "data": {
      "image/png": "[encoded data removed]",
      "text/plain": [
       "<Figure size 432x288 with 1 Axes>"
      ]
     },
     "metadata": {
      "needs_background": "light"
     },
     "output_type": "display_data"
    }
   ],
   "source": [
    "#histogram of life expectancy\n",
    "bins = np.arange(30,df['life_exp'].max()+0.5,0.5)\n",
    "sns.distplot(df.life_exp, bins = bins);"
   ]
  },
  {
   "cell_type": "code",
   "execution_count": 25,
   "metadata": {},
   "outputs": [
    {
     "data": {
      "text/plain": [
       "Text(0.5, 0, 'life expectancy')"
      ]
     },
     "execution_count": 25,
     "metadata": {},
     "output_type": "execute_result"
    },
    {
     "data": {
      "image/png": "[encoded data removed]",
      "text/plain": [
       "<Figure size 432x288 with 1 Axes>"
      ]
     },
     "metadata": {
      "needs_background": "light"
     },
     "output_type": "display_data"
    }
   ],
   "source": [
    "#plot life expectancy distribution with xlim to remove the low outliers\n",
    "bins = np.arange(40,df['life_exp'].max()+0.5,0.5)\n",
    "sns.distplot(df.life_exp, bins = bins);\n",
    "plt.xlim(50,85)\n",
    "plt.xlabel('life expectancy')"
   ]
  },
  {
   "cell_type": "markdown",
   "metadata": {},
   "source": [
    "a histogram illustrates that the distribution of life expectancy is left-skewed with low end outliers and I do limitaion on x scale and the distribution looks multimodel with peaks on (59,62,65,75) this meaning average number of years remaining for an individual or a group of people at a given age is (59,62,65,75)yeas."
   ]
  },
  {
   "cell_type": "markdown",
   "metadata": {},
   "source": [
    "\n",
    "\n",
    "\n",
    "\n",
    "### which countries in the world have the highest GDP per capita in  2010?"
   ]
  },
  {
   "cell_type": "code",
   "execution_count": 26,
   "metadata": {},
   "outputs": [
    {
     "data": {
      "text/html": [
       "<div>\n",
       "<style scoped>\n",
       "    .dataframe tbody tr th:only-of-type {\n",
       "        vertical-align: middle;\n",
       "    }\n",
       "\n",
       "    .dataframe tbody tr th {\n",
       "        vertical-align: top;\n",
       "    }\n",
       "\n",
       "    .dataframe thead th {\n",
       "        text-align: right;\n",
       "    }\n",
       "</style>\n",
       "<table border=\"1\" class=\"dataframe\">\n",
       "  <thead>\n",
       "    <tr style=\"text-align: right;\">\n",
       "      <th></th>\n",
       "      <th>country</th>\n",
       "      <th>GDP_cap</th>\n",
       "      <th>population</th>\n",
       "      <th>life_exp</th>\n",
       "      <th>health_spending</th>\n",
       "    </tr>\n",
       "  </thead>\n",
       "  <tbody>\n",
       "    <tr>\n",
       "      <th>141</th>\n",
       "      <td>Qatar</td>\n",
       "      <td>120000</td>\n",
       "      <td>1860000</td>\n",
       "      <td>78.0</td>\n",
       "      <td>1.81</td>\n",
       "    </tr>\n",
       "    <tr>\n",
       "      <th>100</th>\n",
       "      <td>Luxembourg</td>\n",
       "      <td>91700</td>\n",
       "      <td>508000</td>\n",
       "      <td>80.8</td>\n",
       "      <td>7.77</td>\n",
       "    </tr>\n",
       "    <tr>\n",
       "      <th>24</th>\n",
       "      <td>Brunei</td>\n",
       "      <td>80600</td>\n",
       "      <td>389000</td>\n",
       "      <td>75.1</td>\n",
       "      <td>2.84</td>\n",
       "    </tr>\n",
       "    <tr>\n",
       "      <th>90</th>\n",
       "      <td>Kuwait</td>\n",
       "      <td>75400</td>\n",
       "      <td>2990000</td>\n",
       "      <td>81.2</td>\n",
       "      <td>2.63</td>\n",
       "    </tr>\n",
       "    <tr>\n",
       "      <th>153</th>\n",
       "      <td>Singapore</td>\n",
       "      <td>73100</td>\n",
       "      <td>5130000</td>\n",
       "      <td>83.2</td>\n",
       "      <td>3.96</td>\n",
       "    </tr>\n",
       "    <tr>\n",
       "      <th>129</th>\n",
       "      <td>Norway</td>\n",
       "      <td>62400</td>\n",
       "      <td>4890000</td>\n",
       "      <td>80.9</td>\n",
       "      <td>9.48</td>\n",
       "    </tr>\n",
       "    <tr>\n",
       "      <th>169</th>\n",
       "      <td>Switzerland</td>\n",
       "      <td>55900</td>\n",
       "      <td>7810000</td>\n",
       "      <td>82.5</td>\n",
       "      <td>11.50</td>\n",
       "    </tr>\n",
       "    <tr>\n",
       "      <th>184</th>\n",
       "      <td>United Arab Emirates</td>\n",
       "      <td>55400</td>\n",
       "      <td>8550000</td>\n",
       "      <td>72.9</td>\n",
       "      <td>3.66</td>\n",
       "    </tr>\n",
       "    <tr>\n",
       "      <th>186</th>\n",
       "      <td>United States</td>\n",
       "      <td>49500</td>\n",
       "      <td>309000000</td>\n",
       "      <td>78.7</td>\n",
       "      <td>17.90</td>\n",
       "    </tr>\n",
       "    <tr>\n",
       "      <th>122</th>\n",
       "      <td>Netherlands</td>\n",
       "      <td>46100</td>\n",
       "      <td>16700000</td>\n",
       "      <td>80.8</td>\n",
       "      <td>11.90</td>\n",
       "    </tr>\n",
       "  </tbody>\n",
       "</table>\n",
       "</div>"
      ],
      "text/plain": [
       "                  country  GDP_cap  population  life_exp  health_spending\n",
       "141                 Qatar   120000     1860000      78.0             1.81\n",
       "100            Luxembourg    91700      508000      80.8             7.77\n",
       "24                 Brunei    80600      389000      75.1             2.84\n",
       "90                 Kuwait    75400     2990000      81.2             2.63\n",
       "153             Singapore    73100     5130000      83.2             3.96\n",
       "129                Norway    62400     4890000      80.9             9.48\n",
       "169           Switzerland    55900     7810000      82.5            11.50\n",
       "184  United Arab Emirates    55400     8550000      72.9             3.66\n",
       "186         United States    49500   309000000      78.7            17.90\n",
       "122           Netherlands    46100    16700000      80.8            11.90"
      ]
     },
     "execution_count": 26,
     "metadata": {},
     "output_type": "execute_result"
    }
   ],
   "source": [
    "# get the countries that have highest of GDP\n",
    "top_GDP = df.nlargest(10,['GDP_cap'])\n",
    "top_GDP"
   ]
  },
  {
   "cell_type": "code",
   "execution_count": 27,
   "metadata": {},
   "outputs": [
    {
     "data": {
      "text/plain": [
       "Text(0.5, 1.0, 'Top 10 countries ranked by GDP per capita in 2010')"
      ]
     },
     "execution_count": 27,
     "metadata": {},
     "output_type": "execute_result"
    },
    {
     "data": {
      "image/png": "[encoded data removed]",
      "text/plain": [
       "<Figure size 720x432 with 1 Axes>"
      ]
     },
     "metadata": {
      "needs_background": "light"
     },
     "output_type": "display_data"
    }
   ],
   "source": [
    "#visulaize  the top 10 countries ranked by total GDP\n",
    "fig, ax = plt.subplots(figsize=(10,6))\n",
    "sns.set_context(\"paper\")\n",
    "ax =sns.barplot(x=df['GDP_cap'],y=top_GDP['country'],data= df,palette=\"Blues_d\")\n",
    "plt.xlabel('GDP per capita in [USD]')\n",
    "plt.title(\"Top 10 countries ranked by GDP per capita in 2010\")"
   ]
  },
  {
   "cell_type": "markdown",
   "metadata": {},
   "source": [
    "As we can seen from the pervious bars Qatar have the highest annual Gross domestic product per capita with 120000 $"
   ]
  },
  {
   "cell_type": "code",
   "execution_count": 39,
   "metadata": {},
   "outputs": [
    {
     "data": {
      "text/plain": [
       "<AxesSubplot:>"
      ]
     },
     "execution_count": 39,
     "metadata": {},
     "output_type": "execute_result"
    },
    {
     "data": {
      "image/png": "[encoded data removed]",
      "text/plain": [
       "<Figure size 720x288 with 2 Axes>"
      ]
     },
     "metadata": {
      "needs_background": "light"
     },
     "output_type": "display_data"
    }
   ],
   "source": [
    "# Heatmap of correlation between population, life expectancy, and GDP per capita\n",
    "plt.figure(figsize=[10,4])\n",
    "df_corr = df.loc[:,['GDP_cap', 'population', 'life_exp','health_spending']]\n",
    "sns.heatmap(df_corr.corr(), annot=True)\n"
   ]
  },
  {
   "cell_type": "markdown",
   "metadata": {},
   "source": [
    "A heatmap of correlation between population, life expectancy, and GDP per capita illustrates strong pearson coefficient of 0.6 between GDP per capita and life expectancy "
   ]
  },
  {
   "cell_type": "markdown",
   "metadata": {},
   "source": [
    "\n",
    "\n",
    "## life expectancy Vs. GDP per capita"
   ]
  },
  {
   "cell_type": "code",
   "execution_count": 29,
   "metadata": {},
   "outputs": [
    {
     "data": {
      "text/plain": [
       "<AxesSubplot:xlabel='GDP_cap', ylabel='life_exp'>"
      ]
     },
     "execution_count": 29,
     "metadata": {},
     "output_type": "execute_result"
    },
    {
     "data": {
      "image/png": "[encoded data removed]",
      "text/plain": [
       "<Figure size 432x288 with 1 Axes>"
      ]
     },
     "metadata": {
      "needs_background": "light"
     },
     "output_type": "display_data"
    }
   ],
   "source": [
    "#scatterplot of life expectancy Vs. GDP per capita\n",
    "sns.regplot(data=df, x='GDP_cap', y='life_exp')\n"
   ]
  },
  {
   "cell_type": "code",
   "execution_count": 31,
   "metadata": {},
   "outputs": [
    {
     "data": {
      "text/plain": [
       "Text(0.5, 1.0, 'life expectancy Vs. GDP per capita')"
      ]
     },
     "execution_count": 31,
     "metadata": {},
     "output_type": "execute_result"
    },
    {
     "data": {
      "image/png": "[encoded data removed]",
      "text/plain": [
       "<Figure size 432x288 with 1 Axes>"
      ]
     },
     "metadata": {
      "needs_background": "light"
     },
     "output_type": "display_data"
    }
   ],
   "source": [
    "#transfom the GDP per capita to get liner relationship between life expectancy\n",
    "def log_trans(x, inverse= False):\n",
    "    if not inverse:\n",
    "        return np.log10(x)\n",
    "    else :\n",
    "        return np.power(10,x)\n",
    "    \n",
    "sns.regplot(df['GDP_cap'].apply(log_trans), df['life_exp'])\n",
    "plt.xlabel('GDP per caita in (USD)')\n",
    "plt.ylabel('life expectancy in (years)')\n",
    "plt.title(\"life expectancy Vs. GDP per capita\")    "
   ]
  },
  {
   "cell_type": "markdown",
   "metadata": {},
   "source": [
    "this scatterplot shows that countries with higher GDP per capita tending toward higher life expectancy, whereas GDP per capita varies geometrically (multiplicativity)rather than arithmetically (additively) between countries so I've used log transformtion for x axis to better visualize the upword trend in life expectancy"
   ]
  },
  {
   "cell_type": "code",
   "execution_count": 45,
   "metadata": {},
   "outputs": [
    {
     "data": {
      "text/html": [
       "<div>\n",
       "<style scoped>\n",
       "    .dataframe tbody tr th:only-of-type {\n",
       "        vertical-align: middle;\n",
       "    }\n",
       "\n",
       "    .dataframe tbody tr th {\n",
       "        vertical-align: top;\n",
       "    }\n",
       "\n",
       "    .dataframe thead th {\n",
       "        text-align: right;\n",
       "    }\n",
       "</style>\n",
       "<table border=\"1\" class=\"dataframe\">\n",
       "  <thead>\n",
       "    <tr style=\"text-align: right;\">\n",
       "      <th></th>\n",
       "      <th>country</th>\n",
       "      <th>GDP_cap</th>\n",
       "      <th>population</th>\n",
       "      <th>life_exp</th>\n",
       "      <th>health_spending</th>\n",
       "    </tr>\n",
       "  </thead>\n",
       "  <tbody>\n",
       "    <tr>\n",
       "      <th>35</th>\n",
       "      <td>China</td>\n",
       "      <td>9500</td>\n",
       "      <td>1370000000</td>\n",
       "      <td>75.8</td>\n",
       "      <td>5.07</td>\n",
       "    </tr>\n",
       "    <tr>\n",
       "      <th>77</th>\n",
       "      <td>India</td>\n",
       "      <td>4450</td>\n",
       "      <td>1230000000</td>\n",
       "      <td>66.7</td>\n",
       "      <td>4.05</td>\n",
       "    </tr>\n",
       "    <tr>\n",
       "      <th>186</th>\n",
       "      <td>United States</td>\n",
       "      <td>49500</td>\n",
       "      <td>309000000</td>\n",
       "      <td>78.7</td>\n",
       "      <td>17.90</td>\n",
       "    </tr>\n",
       "    <tr>\n",
       "      <th>78</th>\n",
       "      <td>Indonesia</td>\n",
       "      <td>8460</td>\n",
       "      <td>242000000</td>\n",
       "      <td>69.7</td>\n",
       "      <td>2.61</td>\n",
       "    </tr>\n",
       "    <tr>\n",
       "      <th>23</th>\n",
       "      <td>Brazil</td>\n",
       "      <td>14600</td>\n",
       "      <td>196000000</td>\n",
       "      <td>74.4</td>\n",
       "      <td>9.01</td>\n",
       "    </tr>\n",
       "    <tr>\n",
       "      <th>131</th>\n",
       "      <td>Pakistan</td>\n",
       "      <td>4070</td>\n",
       "      <td>179000000</td>\n",
       "      <td>64.3</td>\n",
       "      <td>2.20</td>\n",
       "    </tr>\n",
       "    <tr>\n",
       "      <th>126</th>\n",
       "      <td>Nigeria</td>\n",
       "      <td>5080</td>\n",
       "      <td>159000000</td>\n",
       "      <td>60.5</td>\n",
       "      <td>5.07</td>\n",
       "    </tr>\n",
       "    <tr>\n",
       "      <th>13</th>\n",
       "      <td>Bangladesh</td>\n",
       "      <td>2520</td>\n",
       "      <td>148000000</td>\n",
       "      <td>69.5</td>\n",
       "      <td>3.52</td>\n",
       "    </tr>\n",
       "    <tr>\n",
       "      <th>143</th>\n",
       "      <td>Russia</td>\n",
       "      <td>23300</td>\n",
       "      <td>143000000</td>\n",
       "      <td>68.1</td>\n",
       "      <td>5.08</td>\n",
       "    </tr>\n",
       "    <tr>\n",
       "      <th>85</th>\n",
       "      <td>Japan</td>\n",
       "      <td>35800</td>\n",
       "      <td>129000000</td>\n",
       "      <td>83.1</td>\n",
       "      <td>9.49</td>\n",
       "    </tr>\n",
       "  </tbody>\n",
       "</table>\n",
       "</div>"
      ],
      "text/plain": [
       "           country  GDP_cap  population  life_exp  health_spending\n",
       "35           China     9500  1370000000      75.8             5.07\n",
       "77           India     4450  1230000000      66.7             4.05\n",
       "186  United States    49500   309000000      78.7            17.90\n",
       "78       Indonesia     8460   242000000      69.7             2.61\n",
       "23          Brazil    14600   196000000      74.4             9.01\n",
       "131       Pakistan     4070   179000000      64.3             2.20\n",
       "126        Nigeria     5080   159000000      60.5             5.07\n",
       "13      Bangladesh     2520   148000000      69.5             3.52\n",
       "143         Russia    23300   143000000      68.1             5.08\n",
       "85           Japan    35800   129000000      83.1             9.49"
      ]
     },
     "execution_count": 45,
     "metadata": {},
     "output_type": "execute_result"
    }
   ],
   "source": [
    "top_pop = df.nlargest(10,['population'])\n",
    "top_pop"
   ]
  },
  {
   "cell_type": "code",
   "execution_count": 52,
   "metadata": {},
   "outputs": [
    {
     "data": {
      "text/plain": [
       "Text(49500, 78.7, 'USA')"
      ]
     },
     "execution_count": 52,
     "metadata": {},
     "output_type": "execute_result"
    },
    {
     "data": {
      "image/png": "[encoded data removed]",
      "text/plain": [
       "<Figure size 780x520 with 1 Axes>"
      ]
     },
     "metadata": {},
     "output_type": "display_data"
    }
   ],
   "source": [
    "#Set the style to \"darkgrid\n",
    "sns.set_style(\"darkgrid\")\n",
    "#set array of population in millions to use for bubble size\n",
    "pop = np.array(df.population)/1000000\n",
    "\n",
    "plt.figure(dpi=130)\n",
    "#Build seaborn scatterplot, setting puple size by population \n",
    "sns.scatterplot(df['GDP_cap'],df['life_exp'], size= pop,sizes=(25,500),legend=False)\n",
    "plt.xscale('log')\n",
    "plt.xticks([1000,10000,100000],['1k','10k','100k']);\n",
    "\n",
    "#Format axis labels and text for call-out countries. \n",
    "plt.xlabel('GDP per caita in (USD)')\n",
    "plt.ylabel('life expectancy in (years)')\n",
    "plt.title('Global Devolpement in 2010')\n",
    "plt.text(9500,75.8,'China')\n",
    "plt.text(4450,66.7,'India')\n",
    "plt.text(49500,78.7,'USA')\n"
   ]
  },
  {
   "cell_type": "markdown",
   "metadata": {},
   "source": [
    "As we can seen here also, countries that achieved highest values of GDP per capita have highest life expectancy.\n",
    "\n",
    " addition to the population play big role beside GDP to effect in life expectancy where a lot of these countries with large populations tend to life expectancy decress and GDP per capita like India . \n",
    " \n",
    "on the opposite, countries with relatively small population tend up word highest life expectancy and highest GDP per capita like United States and Chines\n",
    "so countries with large economies tends to decreas population."
   ]
  },
  {
   "cell_type": "markdown",
   "metadata": {},
   "source": [
    "\n",
    "\n",
    "## Submitting your Project \n"
   ]
  },
  {
   "cell_type": "code",
   "execution_count": 34,
   "metadata": {},
   "outputs": [
    {
     "data": {
      "text/plain": [
       "0"
      ]
     },
     "execution_count": 34,
     "metadata": {},
     "output_type": "execute_result"
    }
   ],
   "source": [
    "from subprocess import call\n",
    "call(['python', '-m', 'nbconvert', 'Investigate_Gapminder_world_dataset.ipynb'])"
   ]
  }
 ],
 "metadata": {
  "kernelspec": {
   "display_name": "Python 3",
   "language": "python",
   "name": "python3"
  },
  "language_info": {
   "codemirror_mode": {
    "name": "ipython",
    "version": 3
   },
   "file_extension": ".py",
   "mimetype": "text/x-python",
   "name": "python",
   "nbconvert_exporter": "python",
   "pygments_lexer": "ipython3",
   "version": "3.8.5"
  }
 },
 "nbformat": 4,
 "nbformat_minor": 2
}
